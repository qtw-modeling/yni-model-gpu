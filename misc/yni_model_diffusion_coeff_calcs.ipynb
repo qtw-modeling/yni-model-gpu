{
 "cells": [
  {
   "cell_type": "code",
   "execution_count": 1,
   "metadata": {},
   "outputs": [],
   "source": [
    "import math as m\n",
    "import numpy as np"
   ]
  },
  {
   "cell_type": "code",
   "execution_count": 74,
   "metadata": {},
   "outputs": [
    {
     "name": "stdout",
     "output_type": "stream",
     "text": [
      "6.20e-12\n"
     ]
    }
   ],
   "source": [
    "# if L == d\n",
    "# L = 70 * 1e-6 # in [m]; original value --- in [mum]\n",
    "#d = L\n",
    "\n",
    "# cells at SAN center\n",
    "d = 5*1e-6 # 8*1e-6 # in [m]\n",
    "L = 37*1e-6 # 86*1e-6 # in [m]\n",
    "\n",
    "# cells at SAN periphery\n",
    "# d = 8*1e-6 # in [m]\n",
    "# L = 86*1e-6 # in [m]\n",
    "\n",
    "S_tot = m.pi*L*d + 0.5*m.pi*(d**2) # total area of surface of cell (cell == cylinder)\n",
    "S_tot_eff = 1.0*S_tot\n",
    "rho_C_m = 1. * 1e-6 / ((1e-2)**2) # in [F/m^2]; from YNI (1980) article\n",
    "C_m = rho_C_m * S_tot_eff\n",
    "\n",
    "print('%.2e' % C_m)"
   ]
  },
  {
   "cell_type": "code",
   "execution_count": 75,
   "metadata": {},
   "outputs": [
    {
     "name": "stdout",
     "output_type": "stream",
     "text": [
      "2.00e-11\n"
     ]
    }
   ],
   "source": [
    "# absolute values from Zhang et al. (2000) article\n",
    "C_m_experiment = 20 * 1e-12 # for cell at SAN center\n",
    "\n",
    "print('%.2e' % C_m_experiment)"
   ]
  },
  {
   "cell_type": "code",
   "execution_count": 76,
   "metadata": {},
   "outputs": [
    {
     "name": "stdout",
     "output_type": "stream",
     "text": [
      "Отличие в емкостях: 3.2\n"
     ]
    }
   ],
   "source": [
    "print('Отличие в емкостях: %.1f' % (C_m_experiment/C_m))"
   ]
  },
  {
   "cell_type": "markdown",
   "metadata": {},
   "source": [
    "Значит, ну"
   ]
  },
  {
   "cell_type": "code",
   "execution_count": 86,
   "metadata": {},
   "outputs": [
    {
     "data": {
      "text/plain": [
       "0.01"
      ]
     },
     "execution_count": 86,
     "metadata": {},
     "output_type": "execute_result"
    }
   ],
   "source": [
    "# just a check\n",
    "10e-3"
   ]
  },
  {
   "cell_type": "code",
   "execution_count": 43,
   "metadata": {},
   "outputs": [
    {
     "data": {
      "text/plain": [
       "13.999999999999998"
      ]
     },
     "execution_count": 43,
     "metadata": {},
     "output_type": "execute_result"
    }
   ],
   "source": [
    "# area calcs\n",
    "200*70*1e-6*1e3"
   ]
  },
  {
   "cell_type": "code",
   "execution_count": 79,
   "metadata": {},
   "outputs": [
    {
     "name": "stdout",
     "output_type": "stream",
     "text": [
      "1.47e-04 4.52e-05\n"
     ]
    }
   ],
   "source": [
    "# diffusion coeff\n",
    "D_central = 6e-5*((7e-3)**2)/20e-6 # wrong: elongated (not scaled to square) cells should be considered\n",
    "D_peripheral = 6e-5*((7e-3)**2)/65e-6 # wrong: same\n",
    "\n",
    "print('%.2e %.2e' % (D_central, D_peripheral))"
   ]
  },
  {
   "cell_type": "code",
   "execution_count": 89,
   "metadata": {},
   "outputs": [
    {
     "name": "stdout",
     "output_type": "stream",
     "text": [
      "6.92e-05\n"
     ]
    }
   ],
   "source": [
    "# diffusion coeff. of\n",
    "# cell = 0.5(central + peripheral)\n",
    "D_effective = 6e-5*((7e-3)**2)/42.5e-6\n",
    "print('%.2e' % (D_effective))"
   ]
  },
  {
   "cell_type": "code",
   "execution_count": 5,
   "metadata": {},
   "outputs": [
    {
     "name": "stdout",
     "output_type": "stream",
     "text": [
      "Размер сжатой клетки SAN в статье Syunyaev2016: 50.00 mum\n"
     ]
    }
   ],
   "source": [
    "# SAN geometry's calcs.\n",
    "L_SAN = 2500 # in mu*m\n",
    "NUM_CELLS_X = 50\n",
    "\n",
    "L_cell = L_SAN/NUM_CELLS_X # in mu*m\n",
    "print('Размер сжатой клетки SAN в статье Syunyaev2016: %.2f mum' % L_cell)"
   ]
  },
  {
   "cell_type": "code",
   "execution_count": null,
   "metadata": {},
   "outputs": [],
   "source": []
  }
 ],
 "metadata": {
  "kernelspec": {
   "display_name": "Python 3",
   "language": "python",
   "name": "python3"
  },
  "language_info": {
   "codemirror_mode": {
    "name": "ipython",
    "version": 3
   },
   "file_extension": ".py",
   "mimetype": "text/x-python",
   "name": "python",
   "nbconvert_exporter": "python",
   "pygments_lexer": "ipython3",
   "version": "3.7.6"
  }
 },
 "nbformat": 4,
 "nbformat_minor": 4
}
