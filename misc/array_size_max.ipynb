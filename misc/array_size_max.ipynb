{
 "cells": [
  {
   "cell_type": "code",
   "execution_count": 1,
   "metadata": {},
   "outputs": [],
   "source": [
    "num_extra_cells = 2 # ghost cells, both for x/y axis\n",
    "num_cells_x = 1024\n",
    "num_points_x = num_cells_x + num_extra_cells"
   ]
  },
  {
   "cell_type": "code",
   "execution_count": 4,
   "metadata": {},
   "outputs": [],
   "source": [
    "size_of_array = num_points_x**2\n",
    "num_yni_model_vars = 7 + 5\n",
    "num_timelayers = 2\n",
    "size_of_format = 8 # in bytes"
   ]
  },
  {
   "cell_type": "code",
   "execution_count": 11,
   "metadata": {},
   "outputs": [
    {
     "name": "stdout",
     "output_type": "stream",
     "text": [
      "202 Mbytes.\n"
     ]
    }
   ],
   "source": [
    "memory_size_bytes = size_of_format * size_of_array * num_yni_model_vars * num_timelayers\n",
    "print('%d Mbytes.' % int(memory_size_bytes/1e6))"
   ]
  },
  {
   "cell_type": "markdown",
   "metadata": {},
   "source": [
    "Такой размер должен умещаться в RAM."
   ]
  },
  {
   "cell_type": "code",
   "execution_count": null,
   "metadata": {},
   "outputs": [],
   "source": []
  }
 ],
 "metadata": {
  "kernelspec": {
   "display_name": "Python 3",
   "language": "python",
   "name": "python3"
  },
  "language_info": {
   "codemirror_mode": {
    "name": "ipython",
    "version": 3
   },
   "file_extension": ".py",
   "mimetype": "text/x-python",
   "name": "python",
   "nbconvert_exporter": "python",
   "pygments_lexer": "ipython3",
   "version": "3.7.6"
  }
 },
 "nbformat": 4,
 "nbformat_minor": 4
}
